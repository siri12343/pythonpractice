{
 "cells": [
  {
   "cell_type": "code",
   "execution_count": 10,
   "metadata": {},
   "outputs": [
    {
     "ename": "SyntaxError",
     "evalue": "invalid syntax (<ipython-input-10-ea6cf1f5b2d2>, line 2)",
     "output_type": "error",
     "traceback": [
      "\u001b[1;36m  File \u001b[1;32m\"<ipython-input-10-ea6cf1f5b2d2>\"\u001b[1;36m, line \u001b[1;32m2\u001b[0m\n\u001b[1;33m    - Anaconda installation\u001b[0m\n\u001b[1;37m                          ^\u001b[0m\n\u001b[1;31mSyntaxError\u001b[0m\u001b[1;31m:\u001b[0m invalid syntax\n"
     ]
    }
   ],
   "source": [
    "### 16-09-2019 Day objectives:\n",
    "- Anaconda installation\n",
    "- About Anaconda navigator\n",
    "- difference between python Idle and Jupytor Notebook\n",
    "- About Jupitor Notebook\n",
    "- Using Jupitor Notebook\n",
    "- code mode and Markdown mode"
   ]
  },
  {
   "cell_type": "code",
   "execution_count": null,
   "metadata": {},
   "outputs": [],
   "source": []
  },
  {
   "cell_type": "code",
   "execution_count": null,
   "metadata": {},
   "outputs": [],
   "source": [
    " "
   ]
  },
  {
   "cell_type": "code",
   "execution_count": 2,
   "metadata": {},
   "outputs": [
    {
     "name": "stdout",
     "output_type": "stream",
     "text": [
      "hi iam from tdp\n",
      "siri\n"
     ]
    }
   ],
   "source": [
    "print(\"hi iam from tdp\")\n",
    "print(\"siri\")"
   ]
  },
  {
   "cell_type": "code",
   "execution_count": 3,
   "metadata": {},
   "outputs": [
    {
     "data": {
      "text/plain": [
       "5"
      ]
     },
     "execution_count": 3,
     "metadata": {},
     "output_type": "execute_result"
    }
   ],
   "source": [
    "2+3"
   ]
  },
  {
   "cell_type": "code",
   "execution_count": null,
   "metadata": {},
   "outputs": [],
   "source": [
    "# it will print like as header1 tag\n",
    "## it will print like as header2 tag\n",
    "### it will print like as header3 tag\n",
    "#### it will print like as header4 tag\n",
    "##### it will print like as header5 tag\n",
    "###### it will print like as header6 tag\n",
    "<p>Iam using paragraph tag</p>\n",
    "<p><b>paragraph with bold tag</b></p>\n",
    "<img src=\"pythonlogo.jfif\" height=\"120px\"width=\"100px\">\n",
    "\n",
    "\n",
    "\n",
    "## HTML List\n",
    "- unorder List\n",
    "   - UL tag with li tag\n",
    "- ordered List\n",
    "   - OL tag with li tag\n",
    "   \n",
    "   \n",
    "<a href=\"#\">Cick here</a>(# means nothing to navigate any page)"
   ]
  },
  {
   "cell_type": "code",
   "execution_count": 7,
   "metadata": {},
   "outputs": [
    {
     "data": {
      "text/plain": [
       "28"
      ]
     },
     "execution_count": 7,
     "metadata": {},
     "output_type": "execute_result"
    }
   ],
   "source": [
    "4*7"
   ]
  }
 ],
 "metadata": {
  "kernelspec": {
   "display_name": "Python 3",
   "language": "python",
   "name": "python3"
  },
  "language_info": {
   "codemirror_mode": {
    "name": "ipython",
    "version": 3
   },
   "file_extension": ".py",
   "mimetype": "text/x-python",
   "name": "python",
   "nbconvert_exporter": "python",
   "pygments_lexer": "ipython3",
   "version": "3.7.3"
  }
 },
 "nbformat": 4,
 "nbformat_minor": 2
}
