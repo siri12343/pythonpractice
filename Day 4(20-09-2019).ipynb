{
 "cells": [
  {
   "cell_type": "code",
   "execution_count": 5,
   "metadata": {},
   "outputs": [
    {
     "name": "stdout",
     "output_type": "stream",
     "text": [
      "over\n",
      "hello\n",
      "hi\n"
     ]
    }
   ],
   "source": [
    "def fun_name():\n",
    "    print(\"hello\")\n",
    "    print(\"hi\")\n",
    "print(\"over\")\n",
    "fun_name()"
   ]
  },
  {
   "cell_type": "code",
   "execution_count": 6,
   "metadata": {},
   "outputs": [
    {
     "name": "stdout",
     "output_type": "stream",
     "text": [
      "iam without passing arguements and without return\n"
     ]
    }
   ],
   "source": [
    "# without passing arguements and without return\n",
    "def show():\n",
    "    print(\"iam without passing arguements and without return\")\n",
    "show()    "
   ]
  },
  {
   "cell_type": "code",
   "execution_count": 8,
   "metadata": {},
   "outputs": [
    {
     "name": "stdout",
     "output_type": "stream",
     "text": [
      "without passing arguements and without return result\n"
     ]
    }
   ],
   "source": [
    "# without passing arguements and without return result\n",
    "def display():\n",
    "    return \"without passing arguements and without return result\"\n",
    "rs=display()\n",
    "print(rs)"
   ]
  },
  {
   "cell_type": "code",
   "execution_count": 9,
   "metadata": {},
   "outputs": [
    {
     "name": "stdout",
     "output_type": "stream",
     "text": [
      "addition of num1 and num2 is: 11\n"
     ]
    }
   ],
   "source": [
    "#passing arguements and without return result\n",
    "def add(num1,num2):\n",
    "    print(\"addition of num1 and num2 is:\",num1+num2)\n",
    "add(5,6)    "
   ]
  },
  {
   "cell_type": "code",
   "execution_count": 11,
   "metadata": {},
   "outputs": [
    {
     "name": "stdout",
     "output_type": "stream",
     "text": [
      "mul of n1 and n2 is 63\n"
     ]
    }
   ],
   "source": [
    "#passing arguements and without return result\n",
    "def mul(n1,n2):\n",
    "    return n1*n2\n",
    "#print(\"multiplication of n1 and n2 is\",mul(6,5))\n",
    "rs=mul(7,9)\n",
    "print(\"mul of n1 and n2 is\",rs)"
   ]
  },
  {
   "cell_type": "code",
   "execution_count": 23,
   "metadata": {},
   "outputs": [
    {
     "name": "stdout",
     "output_type": "stream",
     "text": [
      "enter a value4\n",
      "enter b value9\n",
      "add of a and b is 13\n",
      "sub of a and b is -5\n",
      "mul of a and b is 36\n",
      "mod of a and b is 4\n",
      "div of a and b is 0.4444444444444444\n"
     ]
    }
   ],
   "source": [
    "a=int(input(\"enter a value\"))\n",
    "b=int(input(\"enter b value\"))\n",
    "def add(a,b):\n",
    "    return a+b\n",
    "r1=add(a,b)\n",
    "print(\"add of a and b is\",r1)\n",
    "def sub(a,b):\n",
    "    return a-b\n",
    "r1=sub(a,b)\n",
    "print(\"sub of a and b is\",r1)\n",
    "def mul(a,b):\n",
    "    return a*b\n",
    "r1=mul(a,b)\n",
    "print(\"mul of a and b is\",r1)\n",
    "def mod(a,b):\n",
    "    return a%b\n",
    "r1=mod(a,b)\n",
    "print(\"mod of a and b is\",r1)\n",
    "def div(a,b):\n",
    "    return a/b\n",
    "r1=div(a,b)\n",
    "print(\"div of a and b is\",r1)"
   ]
  },
  {
   "cell_type": "markdown",
   "metadata": {},
   "source": [
    "## other Functions in Python\n",
    "- default arguments\n",
    "- required arguements\n",
    "- keyword arguements\n",
    "- variable length arguements"
   ]
  },
  {
   "cell_type": "code",
   "execution_count": 28,
   "metadata": {},
   "outputs": [
    {
     "name": "stdout",
     "output_type": "stream",
     "text": [
      "hai hello###apssdc mstp\n"
     ]
    }
   ],
   "source": [
    "# default arguements\n",
    "print(\"hai\",end=\" \")\n",
    "print(\"hello\",end=\"###\")\n",
    "print(\"apssdc mstp\")"
   ]
  },
  {
   "cell_type": "code",
   "execution_count": 32,
   "metadata": {},
   "outputs": [
    {
     "name": "stdout",
     "output_type": "stream",
     "text": [
      "10\n",
      "5\n",
      "6\n",
      "21\n"
     ]
    }
   ],
   "source": [
    "# examples for default arguements\n",
    "def add(n1=0,n2=0,n3=0,n4=0):\n",
    "    return n1+n2+n3+n4\n",
    "print(add(2,8))\n",
    "print(add(5))\n",
    "print(add(1,2,3))\n",
    "print(add(4,8,6,3))"
   ]
  },
  {
   "cell_type": "code",
   "execution_count": 36,
   "metadata": {},
   "outputs": [
    {
     "name": "stdout",
     "output_type": "stream",
     "text": [
      "16 5 6 21\n"
     ]
    }
   ],
   "source": [
    "def add(n1=0,n2=0,n3=0,n4=0):\n",
    "    return n1+n2+n3+n4\n",
    "print(mul(2,8),add(5),add(1,2,3),add(4,8,6,3))"
   ]
  },
  {
   "cell_type": "code",
   "execution_count": 39,
   "metadata": {},
   "outputs": [
    {
     "data": {
      "text/plain": [
       "range(0, 5)"
      ]
     },
     "execution_count": 39,
     "metadata": {},
     "output_type": "execute_result"
    }
   ],
   "source": [
    "# required arguements\n",
    "range(5)"
   ]
  },
  {
   "cell_type": "code",
   "execution_count": 43,
   "metadata": {},
   "outputs": [
    {
     "name": "stdout",
     "output_type": "stream",
     "text": [
      "12\n"
     ]
    }
   ],
   "source": [
    "def mul(a,b):\n",
    "    return a*b\n",
    "print(mul(6,2))"
   ]
  },
  {
   "cell_type": "code",
   "execution_count": 54,
   "metadata": {},
   "outputs": [
    {
     "name": "stdout",
     "output_type": "stream",
     "text": [
      "9\n"
     ]
    }
   ],
   "source": [
    "# example for keyword arguements is print(end=\",\")\n",
    "def power(base,exp):\n",
    "    return base**exp\n",
    "print(power(exp=2,base=3))    "
   ]
  },
  {
   "cell_type": "code",
   "execution_count": 55,
   "metadata": {},
   "outputs": [
    {
     "name": "stdout",
     "output_type": "stream",
     "text": [
      "1\n"
     ]
    }
   ],
   "source": [
    "# example for keyword arguements is print(end=\",\")\n",
    "def power(base,exp=0):\n",
    "    return base**exp\n",
    "print(power(base=3))    "
   ]
  },
  {
   "cell_type": "code",
   "execution_count": 59,
   "metadata": {},
   "outputs": [
    {
     "name": "stdout",
     "output_type": "stream",
     "text": [
      "5 <class 'tuple'>\n",
      "sum of val is: 15\n"
     ]
    }
   ],
   "source": [
    "# variable length arguements\n",
    "def sm(*vals):\n",
    "    print(len(vals),type(vals))\n",
    "    print(\"sum of val is:\",sum(vals))\n",
    "sm(1,2,3,4,5)        "
   ]
  },
  {
   "cell_type": "markdown",
   "metadata": {},
   "source": [
    "## Conditional Control Statements:\n",
    "- it controls flow of program execution based oncondition.\n",
    "- 3 types\n",
    "   - conditional statements\n",
    "   - iterative statements or looping statements\n",
    "   - jumping statements"
   ]
  },
  {
   "cell_type": "markdown",
   "metadata": {},
   "source": [
    "## conditional statements:\n",
    "- if\n",
    "- if else\n",
    "- if else lader\n",
    "- nested if else"
   ]
  },
  {
   "cell_type": "code",
   "execution_count": 60,
   "metadata": {},
   "outputs": [
    {
     "name": "stdout",
     "output_type": "stream",
     "text": [
      "4 is smaller than 5\n"
     ]
    }
   ],
   "source": [
    "if(4<5):\n",
    "    print(\"4 is smaller than 5\")"
   ]
  },
  {
   "cell_type": "code",
   "execution_count": 63,
   "metadata": {},
   "outputs": [
    {
     "name": "stdout",
     "output_type": "stream",
     "text": [
      "ur in else block\n",
      "ur smaller\n"
     ]
    }
   ],
   "source": [
    "if(6<5):\n",
    "    print(\"ur in if block\")\n",
    "    print(\"ur bigger\")\n",
    "else:\n",
    "    print(\"ur in else block\")\n",
    "    print(\"ur smaller\")"
   ]
  },
  {
   "cell_type": "code",
   "execution_count": 65,
   "metadata": {},
   "outputs": [
    {
     "name": "stdout",
     "output_type": "stream",
     "text": [
      "ur in elif block\n"
     ]
    }
   ],
   "source": [
    "if(5>6):\n",
    "    print(\"True\")\n",
    "elif 6<7:\n",
    "    print(\"ur in elif block\")\n",
    "else:\n",
    "    print(\"False\")"
   ]
  },
  {
   "cell_type": "code",
   "execution_count": null,
   "metadata": {},
   "outputs": [],
   "source": []
  }
 ],
 "metadata": {
  "kernelspec": {
   "display_name": "Python 3",
   "language": "python",
   "name": "python3"
  },
  "language_info": {
   "codemirror_mode": {
    "name": "ipython",
    "version": 3
   },
   "file_extension": ".py",
   "mimetype": "text/x-python",
   "name": "python",
   "nbconvert_exporter": "python",
   "pygments_lexer": "ipython3",
   "version": "3.7.3"
  }
 },
 "nbformat": 4,
 "nbformat_minor": 2
}
