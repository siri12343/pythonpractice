{
 "cells": [
  {
   "cell_type": "code",
   "execution_count": 3,
   "metadata": {},
   "outputs": [
    {
     "name": "stdout",
     "output_type": "stream",
     "text": [
      "100 20 300\n",
      "400\n"
     ]
    }
   ],
   "source": [
    "#exam quesions 1.print 3 digit sum in a gven list\n",
    "nums=input().split()\n",
    "sm=0\n",
    "for num in nums:\n",
    "    if len(num)==3:\n",
    "        sm+=int(num)\n",
    "print(sm)        "
   ]
  },
  {
   "cell_type": "code",
   "execution_count": 4,
   "metadata": {},
   "outputs": [
    {
     "name": "stdout",
     "output_type": "stream",
     "text": [
      "siri\n",
      "3\n",
      "sirisirisiri\n"
     ]
    }
   ],
   "source": [
    "# 2.String repetition\n",
    "name=input()\n",
    "num=int(input())\n",
    "print(name*num)"
   ]
  },
  {
   "cell_type": "code",
   "execution_count": 5,
   "metadata": {},
   "outputs": [
    {
     "name": "stdout",
     "output_type": "stream",
     "text": [
      "6\n",
      "8\n",
      "7\n"
     ]
    }
   ],
   "source": [
    "# 3.digit reverse\n",
    "s='786'\n",
    "for i in s[::-1]:\n",
    "    print(i)"
   ]
  },
  {
   "cell_type": "code",
   "execution_count": 1,
   "metadata": {},
   "outputs": [
    {
     "name": "stdout",
     "output_type": "stream",
     "text": [
      "3\n",
      "+9132564778\n",
      "91236547890\n",
      "0231456987\n",
      "+91-(231)-456-987\n",
      "+91-(236)-547-890\n",
      "+91-(325)-647-78\n"
     ]
    }
   ],
   "source": [
    "# Format Mobile Number\n",
    "# read integer\n",
    "n=int(input())\n",
    "nums=[]\n",
    "for i in range(n):\n",
    "    num=input()\n",
    "    if num.startswith('0'):\n",
    "        nums.append(num[1:])\n",
    "    elif num.startswith('+91'):\n",
    "        nums.append(num[3:])\n",
    "    elif num.startswith('91'):\n",
    "        nums.append(num[2:])\n",
    "    else:\n",
    "        nums.append(num)\n",
    "nums.sort()\n",
    "for num in nums:\n",
    "    print(\"+91-(\"+num[0:3]+\")-\"+num[3:6]+\"-\"+num[6:])\n"
   ]
  },
  {
   "cell_type": "code",
   "execution_count": null,
   "metadata": {},
   "outputs": [],
   "source": []
  },
  {
   "cell_type": "code",
   "execution_count": null,
   "metadata": {},
   "outputs": [],
   "source": []
  }
 ],
 "metadata": {
  "kernelspec": {
   "display_name": "Python 3",
   "language": "python",
   "name": "python3"
  },
  "language_info": {
   "codemirror_mode": {
    "name": "ipython",
    "version": 3
   },
   "file_extension": ".py",
   "mimetype": "text/x-python",
   "name": "python",
   "nbconvert_exporter": "python",
   "pygments_lexer": "ipython3",
   "version": "3.7.3"
  }
 },
 "nbformat": 4,
 "nbformat_minor": 2
}
