{
 "cells": [
  {
   "cell_type": "code",
   "execution_count": 3,
   "metadata": {},
   "outputs": [
    {
     "name": "stdout",
     "output_type": "stream",
     "text": [
      "2\n",
      "-9 59 -8 -562\n",
      "520\n",
      "-45 62 -45\n",
      "28\n"
     ]
    }
   ],
   "source": [
    "# additive inverse\n",
    "# 2\n",
    "# input 1: -5 9 8 -10\n",
    "# input 2:\n",
    "n=int(input())\n",
    "for i in range(n):\n",
    "    sm=0\n",
    "    s=input().split()\n",
    "    for j in s:\n",
    "        sm+= int(j)*-1\n",
    "    print(sm)"
   ]
  },
  {
   "cell_type": "code",
   "execution_count": 6,
   "metadata": {},
   "outputs": [
    {
     "name": "stdout",
     "output_type": "stream",
     "text": [
      "2\n",
      "ffwawfr\n",
      "ggxbxgs\n",
      "fsafre\n",
      "gtbgsf\n"
     ]
    }
   ],
   "source": [
    "# Encryption\n",
    "n=int(input())\n",
    "for i in range(n):\n",
    "    s=input()\n",
    "    str=\"\"\n",
    "    for ch in s:\n",
    "        if ch.isalpha():\n",
    "            str+=chr(ord(ch)+1)\n",
    "        else:\n",
    "            str+=ch\n",
    "    print(str)"
   ]
  },
  {
   "cell_type": "markdown",
   "metadata": {},
   "source": [
    "## Files:\n",
    "- collection of data\n",
    "- file types:\n",
    "    - .csv\n",
    "    - .txt\n",
    "    - .pdf\n",
    "    - .exe\n",
    "    - .html\n",
    "### procedure to work on files:\n",
    "- need to open a file\n",
    "- based on requirement we can perform related action\n",
    "- closed file\n",
    "## File modes:\n",
    "- read mode: in read mode we can perform only read operations\n",
    "- write mde: in wrie mode we can perform write operation\n",
    "- append mode"
   ]
  },
  {
   "cell_type": "code",
   "execution_count": 11,
   "metadata": {},
   "outputs": [
    {
     "name": "stdout",
     "output_type": "stream",
     "text": [
      "hi\n",
      "hello\n",
      "welcome to python file\n"
     ]
    }
   ],
   "source": [
    "fh=open('mydata.txt')\n",
    "print(fh.read())\n",
    "#fh.read()"
   ]
  },
  {
   "cell_type": "code",
   "execution_count": 17,
   "metadata": {},
   "outputs": [
    {
     "name": "stdout",
     "output_type": "stream",
     "text": [
      "hi\n",
      "hello\n",
      "welcome to python file\n"
     ]
    }
   ],
   "source": [
    "fh=open('mydata.txt')\n",
    "for line in fh:\n",
    "    print(line.rstrip())\n",
    "fh.close()"
   ]
  },
  {
   "cell_type": "code",
   "execution_count": 29,
   "metadata": {},
   "outputs": [],
   "source": [
    "fh=open('mydata1.txt','w')\n",
    "txt=\"iam from ksrmce\"\n",
    "fh.write(txt)\n",
    "#print(fh)\n",
    "fh.close()"
   ]
  },
  {
   "cell_type": "code",
   "execution_count": 33,
   "metadata": {},
   "outputs": [],
   "source": [
    "fh=open('mydata1.txt','a')\n",
    "txt=\"iam from apssdc\"\n",
    "fh.write(\"\\t\"+txt)\n",
    "#print(fh)\n",
    "fh.close()"
   ]
  },
  {
   "cell_type": "code",
   "execution_count": 1,
   "metadata": {},
   "outputs": [
    {
     "name": "stdout",
     "output_type": "stream",
     "text": [
      "hiiiiiii\n",
      "hello\n",
      "kjshdkh\n",
      "iam from ksrmce\n",
      "\n"
     ]
    }
   ],
   "source": [
    "path='textFiles/sample.txt'\n",
    "with open(path,'r') as fh:\n",
    "    print(fh.read())"
   ]
  },
  {
   "cell_type": "code",
   "execution_count": 3,
   "metadata": {},
   "outputs": [],
   "source": [
    "fh=open('mydata1.txt','w')\n",
    "txt=\"iam from apssdc\"\n",
    "fh.write(\"\\t\"+txt)\n",
    "#print(fh)\n",
    "fh.close()"
   ]
  },
  {
   "cell_type": "code",
   "execution_count": 4,
   "metadata": {},
   "outputs": [
    {
     "ename": "UnsupportedOperation",
     "evalue": "not writable",
     "output_type": "error",
     "traceback": [
      "\u001b[1;31m---------------------------------------------------------------------------\u001b[0m",
      "\u001b[1;31mUnsupportedOperation\u001b[0m                      Traceback (most recent call last)",
      "\u001b[1;32m<ipython-input-4-3ad20f204ddb>\u001b[0m in \u001b[0;36m<module>\u001b[1;34m\u001b[0m\n\u001b[0;32m      1\u001b[0m \u001b[0mfh\u001b[0m\u001b[1;33m=\u001b[0m\u001b[0mopen\u001b[0m\u001b[1;33m(\u001b[0m\u001b[1;34m'mydata1.txt'\u001b[0m\u001b[1;33m,\u001b[0m\u001b[1;34m'r'\u001b[0m\u001b[1;33m)\u001b[0m\u001b[1;33m\u001b[0m\u001b[1;33m\u001b[0m\u001b[0m\n\u001b[0;32m      2\u001b[0m \u001b[0mtxt\u001b[0m\u001b[1;33m=\u001b[0m\u001b[1;34m\"iam from apssdc\"\u001b[0m\u001b[1;33m\u001b[0m\u001b[1;33m\u001b[0m\u001b[0m\n\u001b[1;32m----> 3\u001b[1;33m \u001b[0mfh\u001b[0m\u001b[1;33m.\u001b[0m\u001b[0mwrite\u001b[0m\u001b[1;33m(\u001b[0m\u001b[1;34m\"\\t\"\u001b[0m\u001b[1;33m+\u001b[0m\u001b[0mtxt\u001b[0m\u001b[1;33m)\u001b[0m\u001b[1;33m\u001b[0m\u001b[1;33m\u001b[0m\u001b[0m\n\u001b[0m\u001b[0;32m      4\u001b[0m \u001b[1;31m#print(fh)\u001b[0m\u001b[1;33m\u001b[0m\u001b[1;33m\u001b[0m\u001b[1;33m\u001b[0m\u001b[0m\n\u001b[0;32m      5\u001b[0m \u001b[0mfh\u001b[0m\u001b[1;33m.\u001b[0m\u001b[0mclose\u001b[0m\u001b[1;33m(\u001b[0m\u001b[1;33m)\u001b[0m\u001b[1;33m\u001b[0m\u001b[1;33m\u001b[0m\u001b[0m\n",
      "\u001b[1;31mUnsupportedOperation\u001b[0m: not writable"
     ]
    }
   ],
   "source": [
    "fh=open('mydata1.txt','r')\n",
    "txt=\"iam from apssdc\"\n",
    "fh.write(\"\\t\"+txt)\n",
    "#print(fh)\n",
    "fh.close()"
   ]
  },
  {
   "cell_type": "code",
   "execution_count": null,
   "metadata": {},
   "outputs": [],
   "source": []
  }
 ],
 "metadata": {
  "kernelspec": {
   "display_name": "Python 3",
   "language": "python",
   "name": "python3"
  },
  "language_info": {
   "codemirror_mode": {
    "name": "ipython",
    "version": 3
   },
   "file_extension": ".py",
   "mimetype": "text/x-python",
   "name": "python",
   "nbconvert_exporter": "python",
   "pygments_lexer": "ipython3",
   "version": "3.7.3"
  }
 },
 "nbformat": 4,
 "nbformat_minor": 2
}
