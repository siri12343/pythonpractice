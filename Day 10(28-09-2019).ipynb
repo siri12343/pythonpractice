{
 "cells": [
  {
   "cell_type": "markdown",
   "metadata": {},
   "source": [
    "## contact  application\n",
    "- create contact.txt\n",
    "- read valid name,mobile numbers from user then store in contact.txt(before storing perform vadations using re)\n",
    "- define function to Display all contacts\n",
    "- define function to search a contact"
   ]
  },
  {
   "cell_type": "code",
   "execution_count": 18,
   "metadata": {},
   "outputs": [
    {
     "name": "stdout",
     "output_type": "stream",
     "text": [
      "Enter Name:siri\n",
      "Enter Mobile number:9874563210\n",
      "contact has been creating....\n"
     ]
    }
   ],
   "source": [
    "import re\n",
    "filepath= 'textFiles/contact.txt'\n",
    "def isValidName(name):\n",
    "    if re.search('^[a-zA-Z ]{3,30}$',name):\n",
    "        return True\n",
    "    return False\n",
    "# def createcontact(name,phno):\n",
    "def isValidphno(m_no):\n",
    "    if re.search('^[6-9][0-9]{9}$',m_no):\n",
    "        return True \n",
    "    return False\n",
    "def createcontact(name,phno):\n",
    "    if isValidName(name) and isValidphno(phno):\n",
    "        with open(filepath,'a') as fh:\n",
    "            fh.write(\"\\n\"+name+\"\\t\"+phno)\n",
    "            print('contact has been creating....')\n",
    "    else:\n",
    "        print('Enter Valid Name and Mobile number')\n",
    "        \n",
    "        #return True\n",
    "    #return False\n",
    "name=input(\"Enter Name:\")\n",
    "mobileno=input(\"Enter Mobile number:\")\n",
    "createcontact(name,mobileno)\n"
   ]
  },
  {
   "cell_type": "code",
   "execution_count": 19,
   "metadata": {},
   "outputs": [
    {
     "name": "stdout",
     "output_type": "stream",
     "text": [
      "\n",
      "siri\t9874563210\n"
     ]
    }
   ],
   "source": [
    "filepath= 'textFiles/contact.txt'\n",
    "def showContacts(filepath):\n",
    "    with open(filepath) as fh:\n",
    "        print(fh.read())\n",
    "showContacts(filepath)"
   ]
  },
  {
   "cell_type": "code",
   "execution_count": 22,
   "metadata": {},
   "outputs": [
    {
     "name": "stdout",
     "output_type": "stream",
     "text": [
      "Enter Name:siri\n",
      "9874563210\n"
     ]
    }
   ],
   "source": [
    "filepath= 'textFiles/contact.txt'\n",
    "def searchContacts(filepath):\n",
    "    with open(filepath,'r') as fh:\n",
    "        for line in fh:\n",
    "            line=line.split()\n",
    "            if line[0]==name:\n",
    "                print(line[1])\n",
    "name=input(\"Enter Name:\")\n",
    "        # print(fh.read())\n",
    "searchContacts(filepath)"
   ]
  },
  {
   "cell_type": "markdown",
   "metadata": {},
   "source": [
    "# Marks\n",
    "- create marks list\n",
    "- define a function to generate students marks using random method\n",
    "- define function to display all student marks\n",
    "- define function to find failed student count\n",
    "- define function to find passed student count\n",
    "- define function to find student count who got above 80 pecentage"
   ]
  },
  {
   "cell_type": "code",
   "execution_count": 23,
   "metadata": {},
   "outputs": [
    {
     "data": {
      "text/plain": [
       "61"
      ]
     },
     "execution_count": 23,
     "metadata": {},
     "output_type": "execute_result"
    }
   ],
   "source": [
    "import random\n",
    "random.randint(0,100)"
   ]
  },
  {
   "cell_type": "code",
   "execution_count": 1,
   "metadata": {},
   "outputs": [],
   "source": [
    "import random as rd\n",
    "filepath= 'textFiles/marks.txt'\n",
    "def generateMarks():\n",
    "    for i in range(60):\n",
    "        score = rd.randint(0,100)\n",
    "        with open(filepath,'a') as fh:\n",
    "            fh.write(str(score)+\"\\n\")\n",
    "generateMarks()"
   ]
  },
  {
   "cell_type": "code",
   "execution_count": 3,
   "metadata": {},
   "outputs": [
    {
     "name": "stdout",
     "output_type": "stream",
     "text": [
      "69\n",
      "\n"
     ]
    },
    {
     "ename": "NameError",
     "evalue": "name 'c' is not defined",
     "output_type": "error",
     "traceback": [
      "\u001b[1;31m---------------------------------------------------------------------------\u001b[0m",
      "\u001b[1;31mNameError\u001b[0m                                 Traceback (most recent call last)",
      "\u001b[1;32m<ipython-input-3-cfcc71e8bd6f>\u001b[0m in \u001b[0;36m<module>\u001b[1;34m\u001b[0m\n\u001b[0;32m      4\u001b[0m         \u001b[1;32mif\u001b[0m \u001b[0mint\u001b[0m\u001b[1;33m(\u001b[0m\u001b[0mi\u001b[0m\u001b[1;33m)\u001b[0m\u001b[1;33m>=\u001b[0m\u001b[1;36m35\u001b[0m\u001b[1;33m:\u001b[0m\u001b[1;33m\u001b[0m\u001b[1;33m\u001b[0m\u001b[0m\n\u001b[0;32m      5\u001b[0m             \u001b[0mprint\u001b[0m\u001b[1;33m(\u001b[0m\u001b[0mi\u001b[0m\u001b[1;33m)\u001b[0m\u001b[1;33m\u001b[0m\u001b[1;33m\u001b[0m\u001b[0m\n\u001b[1;32m----> 6\u001b[1;33m             \u001b[0mc\u001b[0m\u001b[1;33m+=\u001b[0m\u001b[1;36m1\u001b[0m\u001b[1;33m\u001b[0m\u001b[1;33m\u001b[0m\u001b[0m\n\u001b[0m\u001b[0;32m      7\u001b[0m     \u001b[0mprint\u001b[0m\u001b[1;33m(\u001b[0m\u001b[0mc\u001b[0m\u001b[1;33m)\u001b[0m\u001b[1;33m\u001b[0m\u001b[1;33m\u001b[0m\u001b[0m\n\u001b[0;32m      8\u001b[0m \u001b[1;31m# def genratemarks():\u001b[0m\u001b[1;33m\u001b[0m\u001b[1;33m\u001b[0m\u001b[1;33m\u001b[0m\u001b[0m\n",
      "\u001b[1;31mNameError\u001b[0m: name 'c' is not defined"
     ]
    }
   ],
   "source": [
    "filepath= 'textFiles/marks.txt'\n",
    "with open (filepath,'r') as fh:\n",
    "    for i in fh:\n",
    "        if int(i)>=35:\n",
    "            print(i)\n",
    "            c+=1\n",
    "    print(c)\n",
    "# def genratemarks():"
   ]
  },
  {
   "cell_type": "code",
   "execution_count": null,
   "metadata": {},
   "outputs": [],
   "source": []
  }
 ],
 "metadata": {
  "kernelspec": {
   "display_name": "Python 3",
   "language": "python",
   "name": "python3"
  },
  "language_info": {
   "codemirror_mode": {
    "name": "ipython",
    "version": 3
   },
   "file_extension": ".py",
   "mimetype": "text/x-python",
   "name": "python",
   "nbconvert_exporter": "python",
   "pygments_lexer": "ipython3",
   "version": "3.7.3"
  }
 },
 "nbformat": 4,
 "nbformat_minor": 2
}
