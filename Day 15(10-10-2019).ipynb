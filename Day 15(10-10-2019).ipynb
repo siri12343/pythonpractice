{
 "cells": [
  {
   "cell_type": "markdown",
   "metadata": {},
   "source": [
    "Day Objectives\n",
    "- Encryption and Decryption using dictionary"
   ]
  },
  {
   "cell_type": "code",
   "execution_count": 2,
   "metadata": {},
   "outputs": [
    {
     "data": {
      "text/plain": [
       "{'A': 'E',\n",
       " 'B': 'F',\n",
       " 'C': 'G',\n",
       " 'D': 'H',\n",
       " 'E': 'I',\n",
       " 'F': 'J',\n",
       " 'G': 'K',\n",
       " 'H': 'L',\n",
       " 'I': 'M',\n",
       " 'J': 'N',\n",
       " 'K': 'O',\n",
       " 'L': 'P',\n",
       " 'M': 'Q',\n",
       " 'N': 'R',\n",
       " 'O': 'S',\n",
       " 'P': 'T',\n",
       " 'Q': 'U',\n",
       " 'R': 'V',\n",
       " 'S': 'W',\n",
       " 'T': 'X',\n",
       " 'U': 'Y',\n",
       " 'V': 'Z',\n",
       " 'W': 'A',\n",
       " 'X': 'B',\n",
       " 'Y': 'C',\n",
       " 'Z': 'D'}"
      ]
     },
     "execution_count": 2,
     "metadata": {},
     "output_type": "execute_result"
    }
   ],
   "source": [
    "endec={}\n",
    "for i in range(65,91):\n",
    "    if i>=87:\n",
    "        endec[chr(i)]=chr(i-22)\n",
    "    else:\n",
    "        endec[chr(i)]=chr(i+4)\n",
    "endec"
   ]
  },
  {
   "cell_type": "code",
   "execution_count": 6,
   "metadata": {},
   "outputs": [
    {
     "name": "stdout",
     "output_type": "stream",
     "text": [
      "SIRI WMVM\n"
     ]
    }
   ],
   "source": [
    "omsg='SIRI'\n",
    "enmsg=''\n",
    "for ch in omsg:\n",
    "    enmsg+=endec[ch]\n",
    "print(omsg,enmsg)"
   ]
  },
  {
   "cell_type": "code",
   "execution_count": 13,
   "metadata": {},
   "outputs": [
    {
     "data": {
      "text/plain": [
       "{'E': 'A',\n",
       " 'F': 'B',\n",
       " 'G': 'C',\n",
       " 'H': 'D',\n",
       " 'I': 'E',\n",
       " 'J': 'F',\n",
       " 'K': 'G',\n",
       " 'L': 'H',\n",
       " 'M': 'I',\n",
       " 'N': 'J',\n",
       " 'O': 'K',\n",
       " 'P': 'L',\n",
       " 'Q': 'M',\n",
       " 'R': 'N',\n",
       " 'S': 'O',\n",
       " 'T': 'P',\n",
       " 'U': 'Q',\n",
       " 'V': 'R',\n",
       " 'W': 'S',\n",
       " 'X': 'T',\n",
       " 'Y': 'U',\n",
       " 'Z': 'V',\n",
       " 'A': 'W',\n",
       " 'B': 'X',\n",
       " 'C': 'Y',\n",
       " 'D': 'Z'}"
      ]
     },
     "execution_count": 13,
     "metadata": {},
     "output_type": "execute_result"
    }
   ],
   "source": [
    "dedic={}\n",
    "for i in range(65,91):\n",
    "    if i>=87:\n",
    "        dedic[chr(i-22)]=chr(i)\n",
    "    else:\n",
    "        dedic[chr(i+4)]=chr(i)\n",
    "dedic"
   ]
  },
  {
   "cell_type": "code",
   "execution_count": 18,
   "metadata": {},
   "outputs": [
    {
     "name": "stdout",
     "output_type": "stream",
     "text": [
      "SIRI WMVM OENE\n"
     ]
    }
   ],
   "source": [
    "demsg=''\n",
    "for i in omsg:\n",
    "    demsg+=dedic[i]\n",
    "print(omsg,enmsg,demsg)    "
   ]
  },
  {
   "cell_type": "code",
   "execution_count": 19,
   "metadata": {},
   "outputs": [
    {
     "data": {
      "text/plain": [
       "97"
      ]
     },
     "execution_count": 19,
     "metadata": {},
     "output_type": "execute_result"
    }
   ],
   "source": [
    "ord('a')"
   ]
  },
  {
   "cell_type": "code",
   "execution_count": 41,
   "metadata": {},
   "outputs": [
    {
     "data": {
      "text/plain": [
       "{'a': 'e',\n",
       " 'b': 'f',\n",
       " 'c': 'g',\n",
       " 'd': 'h',\n",
       " 'e': 'i',\n",
       " 'f': 'j',\n",
       " 'g': 'k',\n",
       " 'h': 'l',\n",
       " 'i': 'm',\n",
       " 'j': 'n',\n",
       " 'k': 'o',\n",
       " 'l': 'p',\n",
       " 'm': 'q',\n",
       " 'n': 'r',\n",
       " 'o': 's',\n",
       " 'p': 't',\n",
       " 'q': 'u',\n",
       " 'r': 'v',\n",
       " 's': 'w',\n",
       " 't': 'x',\n",
       " 'u': 'y',\n",
       " 'v': 'z',\n",
       " 'w': 'a',\n",
       " 'x': 'b',\n",
       " 'y': 'c',\n",
       " 'z': 'd'}"
      ]
     },
     "execution_count": 41,
     "metadata": {},
     "output_type": "execute_result"
    }
   ],
   "source": [
    "encdec={}\n",
    "for i in range(97,123):\n",
    "    if i>=119:\n",
    "        encdec[chr(i)]=chr(i-22)\n",
    "    else:\n",
    "        encdec[chr(i)]=chr(i+4)\n",
    "encdec"
   ]
  },
  {
   "cell_type": "code",
   "execution_count": 45,
   "metadata": {},
   "outputs": [
    {
     "name": "stdout",
     "output_type": "stream",
     "text": [
      "siri wmvm\n"
     ]
    }
   ],
   "source": [
    "ormsg='siri'\n",
    "encmsg=''\n",
    "for ch in ormsg:\n",
    "    encmsg+=encdec[ch]\n",
    "print(ormsg,encmsg)"
   ]
  },
  {
   "cell_type": "code",
   "execution_count": 42,
   "metadata": {},
   "outputs": [
    {
     "data": {
      "text/plain": [
       "{'e': 'a',\n",
       " 'f': 'b',\n",
       " 'g': 'c',\n",
       " 'h': 'd',\n",
       " 'i': 'e',\n",
       " 'j': 'f',\n",
       " 'k': 'g',\n",
       " 'l': 'h',\n",
       " 'm': 'i',\n",
       " 'n': 'j',\n",
       " 'o': 'k',\n",
       " 'p': 'l',\n",
       " 'q': 'm',\n",
       " 'r': 'n',\n",
       " 's': 'o',\n",
       " 't': 'p',\n",
       " 'u': 'q',\n",
       " 'v': 'r',\n",
       " 'w': 's',\n",
       " 'x': 't',\n",
       " 'y': 'u',\n",
       " 'z': 'v',\n",
       " 'a': 'w',\n",
       " 'b': 'x',\n",
       " 'c': 'y',\n",
       " 'd': 'z'}"
      ]
     },
     "execution_count": 42,
     "metadata": {},
     "output_type": "execute_result"
    }
   ],
   "source": [
    "dcdic={}\n",
    "for i in range(97,123):\n",
    "    if i>=119:\n",
    "        dcdic[chr(i-22)]=chr(i)\n",
    "    else:\n",
    "        dcdic[chr(i+4)]=chr(i)\n",
    "dcdic"
   ]
  },
  {
   "cell_type": "code",
   "execution_count": 62,
   "metadata": {},
   "outputs": [
    {
     "name": "stdout",
     "output_type": "stream",
     "text": [
      "siri wmvm oene\n"
     ]
    }
   ],
   "source": [
    "ormsg='siri'\n",
    "dcmsg=''\n",
    "for i in ormsg:\n",
    "    dcmsg+=dcdic[i]\n",
    "print(ormsg,encmsg,dcmsg)    "
   ]
  },
  {
   "cell_type": "code",
   "execution_count": 61,
   "metadata": {},
   "outputs": [
    {
     "name": "stdout",
     "output_type": "stream",
     "text": [
      "siri wmvm siri\n"
     ]
    }
   ],
   "source": [
    "ormsg='siri'\n",
    "dcmsg=''\n",
    "for i in encmsg:\n",
    "    dcmsg+=dcdic[i]\n",
    "print(ormsg,encmsg,dcmsg)    "
   ]
  },
  {
   "cell_type": "code",
   "execution_count": 55,
   "metadata": {},
   "outputs": [
    {
     "data": {
      "text/plain": [
       "{'0': '1',\n",
       " '1': '2',\n",
       " '2': '3',\n",
       " '3': '4',\n",
       " '4': '5',\n",
       " '5': '6',\n",
       " '6': '7',\n",
       " '7': '8',\n",
       " '8': '9'}"
      ]
     },
     "execution_count": 55,
     "metadata": {},
     "output_type": "execute_result"
    }
   ],
   "source": [
    "enc={}\n",
    "for i in range(0,9):\n",
    "    if i>9:\n",
    "        enc[str(0)]=enc[str(i+1)]\n",
    "    else:\n",
    "        enc[str(i)]=str(i+1)\n",
    "enc"
   ]
  },
  {
   "cell_type": "code",
   "execution_count": 56,
   "metadata": {},
   "outputs": [
    {
     "data": {
      "text/plain": [
       "{'1': '0',\n",
       " '2': '1',\n",
       " '3': '2',\n",
       " '4': '3',\n",
       " '5': '4',\n",
       " '6': '5',\n",
       " '7': '6',\n",
       " '8': '7',\n",
       " '9': '8'}"
      ]
     },
     "execution_count": 56,
     "metadata": {},
     "output_type": "execute_result"
    }
   ],
   "source": [
    "dec={}\n",
    "for i in range(0,9):\n",
    "    if i>9:\n",
    "        dec[str(i+1)]=dec[str(0)]\n",
    "    else:\n",
    "        dec[str(i+1)]=str(i)\n",
    "dec"
   ]
  },
  {
   "cell_type": "code",
   "execution_count": 57,
   "metadata": {},
   "outputs": [
    {
     "name": "stdout",
     "output_type": "stream",
     "text": [
      "456 567\n"
     ]
    }
   ],
   "source": [
    "om='456'\n",
    "enmsg=''\n",
    "for i in om:\n",
    "    enmsg+=enc[i]\n",
    "print(om,enmsg)"
   ]
  },
  {
   "cell_type": "code",
   "execution_count": 60,
   "metadata": {},
   "outputs": [
    {
     "name": "stdout",
     "output_type": "stream",
     "text": [
      "456 567 456\n"
     ]
    }
   ],
   "source": [
    "dnmsg=''\n",
    "for i in enmsg:\n",
    "    dnmsg+=dec[i]\n",
    "print(om,enmsg,dnmsg)    "
   ]
  },
  {
   "cell_type": "code",
   "execution_count": null,
   "metadata": {},
   "outputs": [],
   "source": [
    "dict={}\n",
    "def encalgm():\n",
    "    "
   ]
  },
  {
   "cell_type": "code",
   "execution_count": null,
   "metadata": {},
   "outputs": [],
   "source": [
    "msg='hi siri ur code is 4562319'\n",
    "en=''\n",
    "for i in msg:\n",
    "    "
   ]
  }
 ],
 "metadata": {
  "kernelspec": {
   "display_name": "Python 3",
   "language": "python",
   "name": "python3"
  },
  "language_info": {
   "codemirror_mode": {
    "name": "ipython",
    "version": 3
   },
   "file_extension": ".py",
   "mimetype": "text/x-python",
   "name": "python",
   "nbconvert_exporter": "python",
   "pygments_lexer": "ipython3",
   "version": "3.7.3"
  }
 },
 "nbformat": 4,
 "nbformat_minor": 2
}
